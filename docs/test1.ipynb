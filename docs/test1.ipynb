{
 "cells": [
  {
   "cell_type": "markdown",
   "metadata": {},
   "source": [
    "# Ceci est un titre de niveau 1\n",
    "\n",
    "$$\n",
    "\\tag{2}\n",
    "\\phi = \\frac{1 + \\sqrt{5}}{2}\n",
    "$$\n",
    "\n",
    "## Niveau 2\n",
    "\n",
    "### Niveau 3\n",
    "\n",
    "#### Niveau 4\n",
    "\n",
    "##### Niveau 5\n",
    "\n",
    "Etc.\n",
    "\n",
    "Cf. l'équation [ici](2)\n",
    "\n",
    "> Plutôt cool non ?"
   ]
  },
  {
   "cell_type": "code",
   "execution_count": 3,
   "metadata": {},
   "outputs": [
    {
     "name": "stdout",
     "output_type": "stream",
     "text": [
      "Hello World\n"
     ]
    }
   ],
   "source": [
    "print(\"Hello World\")"
   ]
  },
  {
   "cell_type": "markdown",
   "metadata": {},
   "source": [
    "# Ceci est un second titre de niveau 1 !\n",
    "\n",
    "<p> Et cette fois-ci on va parler en HTML juste pour tester !\n",
    "et hop, un retour à la ligne qui de devrait pas être visible car je suis dans une balise HTML ... tandis qu'ici</br>il y en a un alors que je suis pourtant toujours sur la même ligne !</p>\n",
    "\n",
    "<img src=\"https://secure.gravatar.com/avatar/7851c0cc0f41969a537f413e6fe1817f?s=80&d=identicon\" style=\"margin-left:100px\">\n",
    "\n",
    "![Test](https://secure.gravatar.com/avatar/7851c0cc0f41969a537f413e6fe1817f?s=80&d=identicon)\n",
    "\n",
    "<div class=\"alert alert-info\">\n",
    "\n",
    "Note\n",
    "\n",
    "This is a note!\n",
    "\n",
    "</div>"
   ]
  }
 ],
 "metadata": {
  "interpreter": {
   "hash": "0449edab777f5c499a47cead1fef199c3c2c22176eaf586b1c33a58cfb1d0907"
  },
  "kernelspec": {
   "display_name": "Python 3.9.7 64-bit (windows store)",
   "language": "python",
   "name": "python3"
  },
  "language_info": {
   "codemirror_mode": {
    "name": "ipython",
    "version": 3
   },
   "file_extension": ".py",
   "mimetype": "text/x-python",
   "name": "python",
   "nbconvert_exporter": "python",
   "pygments_lexer": "ipython3",
   "version": "3.9.7"
  },
  "orig_nbformat": 4
 },
 "nbformat": 4,
 "nbformat_minor": 2
}
